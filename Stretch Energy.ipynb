{
 "cells": [
  {
   "cell_type": "markdown",
   "metadata": {},
   "source": [
    "# Stretch Energy"
   ]
  },
  {
   "cell_type": "code",
   "execution_count": 7,
   "metadata": {},
   "outputs": [],
   "source": [
    "from mol_dyn_md import MolDynMD\n",
    "\n",
    "import numpy as np\n",
    "import matplotlib.pyplot as plt\n",
    "%matplotlib inline"
   ]
  },
  {
   "cell_type": "markdown",
   "metadata": {},
   "source": [
    "## Setup"
   ]
  },
  {
   "cell_type": "code",
   "execution_count": 15,
   "metadata": {},
   "outputs": [],
   "source": [
    "atom_types = [1, 1]\n",
    "atom_xyz = np.array([[-0.5e-12, 0, 0], [0.5e-12, 0, 0]])\n",
    "atom_velocities = np.array([[0., 0., 0.], [0., 0., 0.]])\n",
    "atom_bonds = np.array([\n",
    "    [[0, 0], [0.74e-12, -4]],\n",
    "    [[0.74e-12, -4], [0, 0]]\n",
    "])\n",
    "atom_masses = np.array([1.634e-27, 1.634e-27])  # The masses of H atoms in kg\n",
    "\n",
    "mol_dyn = MolDynMD(atom_types=atom_types,\n",
    "                          atom_masses=atom_masses,\n",
    "                          atom_velocities=atom_velocities,\n",
    "                          atom_positions=atom_xyz,\n",
    "                          atom_bonds=atom_bonds,\n",
    "                          dt_s=1e-15,\n",
    "                          grad_h_m=0.01e-15)\n",
    "\n",
    "for _ in range(1000):\n",
    "    mol_dyn.timestep()"
   ]
  },
  {
   "cell_type": "markdown",
   "metadata": {},
   "source": [
    "## Extract the x component of all positions and all velocities for plotting."
   ]
  },
  {
   "cell_type": "code",
   "execution_count": null,
   "metadata": {},
   "outputs": [
    {
     "data": {
      "text/plain": [
       "<matplotlib.legend.Legend at 0x10ac36690>"
      ]
     },
     "execution_count": 16,
     "metadata": {},
     "output_type": "execute_result"
    }
   ],
   "source": [
    "x_positions_1 = []\n",
    "x_velocities_1 = []\n",
    "\n",
    "x_positions_2 = []\n",
    "x_velocities_2 = []\n",
    "\n",
    "for step in mol_dyn.trajectory:\n",
    "    positions = step[\"atom_positions\"]\n",
    "    velocities = step[\"atom_velocities\"]\n",
    "    x_positions_1.append(positions[0, 0])\n",
    "    x_positions_2.append(positions[1, 0])\n",
    "    x_velocities_1.append(velocities[0, 0])\n",
    "    x_velocities_2.append(velocities[1, 0])\n",
    "    \n",
    "x_positions_1 = np.array(x_positions_1)\n",
    "x_positions_2 = np.array(x_positions_2)\n",
    "x_velocities_1 = np.array(x_velocities_1) \n",
    "x_velocities_2 = np.array(x_velocities_2)\n",
    "\n",
    "timesteps = np.arange(len(x_positions_1))\n",
    "\n",
    "_, axs = plt.subplots(nrows=2, ncols=1, figsize=(10, 10))\n",
    "\n",
    "axs[0].set_title(\"Positions\")\n",
    "axs[0].set_xlabel(\"Time step\")\n",
    "axs[0].set_ylabel(\"x coordinate position (m)\")\n",
    "axs[0].plot(timesteps, x_positions_1, label=\"atom 1\")\n",
    "axs[0].plot(timesteps, x_positions_2, label=\"atom 2\")\n",
    "axs[0].legend(loc=\"best\")\n",
    "\n",
    "axs[1].set_title(\"Velocities\")\n",
    "axs[1].set_xlabel(\"Time step\")\n",
    "axs[1].set_ylabel(\"x coordinate velocity (m/s)\")\n",
    "axs[1].plot(timesteps, x_velocities_1, label=\"atom 1\")\n",
    "axs[1].plot(timesteps, x_velocities_2, label=\"atom 2\")\n",
    "axs[1].legend(loc=\"best\")"
   ]
  },
  {
   "cell_type": "code",
   "execution_count": null,
   "metadata": {},
   "outputs": [],
   "source": []
  }
 ],
 "metadata": {
  "kernelspec": {
   "display_name": "Python 3",
   "language": "python",
   "name": "python3"
  },
  "language_info": {
   "codemirror_mode": {
    "name": "ipython",
    "version": 3
   },
   "file_extension": ".py",
   "mimetype": "text/x-python",
   "name": "python",
   "nbconvert_exporter": "python",
   "pygments_lexer": "ipython3",
   "version": "3.7.4"
  }
 },
 "nbformat": 4,
 "nbformat_minor": 4
}
